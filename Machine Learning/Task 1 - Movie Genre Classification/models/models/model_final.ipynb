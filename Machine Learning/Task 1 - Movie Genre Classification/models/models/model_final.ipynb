{
 "cells": [
  {
   "cell_type": "markdown",
   "id": "247e7a59",
   "metadata": {
    "papermill": {
     "duration": 0.006992,
     "end_time": "2023-10-07T04:28:59.567994",
     "exception": false,
     "start_time": "2023-10-07T04:28:59.561002",
     "status": "completed"
    },
    "tags": []
   },
   "source": [
    "# **Movie Genre Classification using TF-IDF and Naive Bayes** #\n",
    "Aim is to build a machine learning model to predict the genre of a movie based on its plot summary or textual information. To achieve this, we will leverage natural language processing (NLP) techniques, specifically TF-IDF (Term Frequency-Inverse Document Frequency), in conjunction with the Naive Bayes classification algorithm.\n",
    "\n",
    "The primary goal is to create a model that can automatically assign one or more genres to a movie based on the textual description provided. This can be valuable for categorizing and organizing movies in databases, recommendation systems, and content filtering."
   ]
  },
  {
   "cell_type": "markdown",
   "id": "f0352763",
   "metadata": {
    "papermill": {
     "duration": 0.004037,
     "end_time": "2023-10-07T04:28:59.576671",
     "exception": false,
     "start_time": "2023-10-07T04:28:59.572634",
     "status": "completed"
    },
    "tags": []
   },
   "source": [
    "# Importing Libraries #"
   ]
  },
  {
   "cell_type": "code",
   "execution_count": 1,
   "id": "28cf9d14",
   "metadata": {
    "execution": {
     "iopub.execute_input": "2023-10-07T04:28:59.587878Z",
     "iopub.status.busy": "2023-10-07T04:28:59.587223Z",
     "iopub.status.idle": "2023-10-07T04:29:02.657109Z",
     "shell.execute_reply": "2023-10-07T04:29:02.655701Z"
    },
    "papermill": {
     "duration": 3.078745,
     "end_time": "2023-10-07T04:29:02.659845",
     "exception": false,
     "start_time": "2023-10-07T04:28:59.581100",
     "status": "completed"
    },
    "tags": [],
    "ExecuteTime": {
     "end_time": "2024-01-24T18:15:04.675896Z",
     "start_time": "2024-01-24T18:15:04.217568Z"
    }
   },
   "outputs": [],
   "source": [
    "import pandas as pd\n",
    "import matplotlib.pyplot as plt\n",
    "import seaborn as sns\n",
    "import re\n",
    "import nltk\n",
    "import string\n",
    "from nltk.corpus import stopwords\n",
    "from nltk.stem import LancasterStemmer\n",
    "from sklearn.feature_extraction.text import TfidfVectorizer\n",
    "from sklearn.model_selection import train_test_split\n",
    "from sklearn.naive_bayes import MultinomialNB\n",
    "from sklearn.metrics import accuracy_score, classification_report"
   ]
  },
  {
   "cell_type": "markdown",
   "id": "377f597f",
   "metadata": {
    "papermill": {
     "duration": 0.004363,
     "end_time": "2023-10-07T04:29:02.668877",
     "exception": false,
     "start_time": "2023-10-07T04:29:02.664514",
     "status": "completed"
    },
    "tags": []
   },
   "source": [
    "# Load Dataset #"
   ]
  },
  {
   "cell_type": "code",
   "execution_count": 2,
   "id": "16a2a52c",
   "metadata": {
    "execution": {
     "iopub.execute_input": "2023-10-07T04:29:02.679494Z",
     "iopub.status.busy": "2023-10-07T04:29:02.678975Z",
     "iopub.status.idle": "2023-10-07T04:29:03.617709Z",
     "shell.execute_reply": "2023-10-07T04:29:03.616297Z"
    },
    "papermill": {
     "duration": 0.946998,
     "end_time": "2023-10-07T04:29:03.620301",
     "exception": false,
     "start_time": "2023-10-07T04:29:02.673303",
     "status": "completed"
    },
    "tags": [],
    "ExecuteTime": {
     "end_time": "2024-01-24T18:15:05.177806Z",
     "start_time": "2024-01-24T18:15:04.677698Z"
    }
   },
   "outputs": [],
   "source": [
    "train_data = pd.read_csv(\"../data/train.csv\")"
   ]
  },
  {
   "cell_type": "code",
   "execution_count": 3,
   "id": "6edf908c",
   "metadata": {
    "execution": {
     "iopub.execute_input": "2023-10-07T04:29:03.631161Z",
     "iopub.status.busy": "2023-10-07T04:29:03.630791Z",
     "iopub.status.idle": "2023-10-07T04:29:03.761634Z",
     "shell.execute_reply": "2023-10-07T04:29:03.760090Z"
    },
    "papermill": {
     "duration": 0.139087,
     "end_time": "2023-10-07T04:29:03.764022",
     "exception": false,
     "start_time": "2023-10-07T04:29:03.624935",
     "status": "completed"
    },
    "tags": [],
    "ExecuteTime": {
     "end_time": "2024-01-24T18:15:05.193729Z",
     "start_time": "2024-01-24T18:15:05.182815Z"
    }
   },
   "outputs": [
    {
     "name": "stdout",
     "output_type": "stream",
     "text": [
      "                 ID\n",
      "count  54214.000000\n",
      "mean   27107.500000\n",
      "std    15650.378084\n",
      "min        1.000000\n",
      "25%    13554.250000\n",
      "50%    27107.500000\n",
      "75%    40660.750000\n",
      "max    54214.000000\n"
     ]
    }
   ],
   "source": [
    "print(train_data.describe())"
   ]
  },
  {
   "cell_type": "code",
   "execution_count": 4,
   "id": "1a78a48b",
   "metadata": {
    "execution": {
     "iopub.execute_input": "2023-10-07T04:29:03.775840Z",
     "iopub.status.busy": "2023-10-07T04:29:03.775420Z",
     "iopub.status.idle": "2023-10-07T04:29:03.814908Z",
     "shell.execute_reply": "2023-10-07T04:29:03.813472Z"
    },
    "papermill": {
     "duration": 0.04814,
     "end_time": "2023-10-07T04:29:03.817123",
     "exception": false,
     "start_time": "2023-10-07T04:29:03.768983",
     "status": "completed"
    },
    "tags": [],
    "ExecuteTime": {
     "end_time": "2024-01-24T18:15:05.249010Z",
     "start_time": "2024-01-24T18:15:05.205942Z"
    }
   },
   "outputs": [
    {
     "name": "stdout",
     "output_type": "stream",
     "text": [
      "<class 'pandas.core.frame.DataFrame'>\n",
      "RangeIndex: 54214 entries, 0 to 54213\n",
      "Data columns (total 4 columns):\n",
      " #   Column       Non-Null Count  Dtype \n",
      "---  ------       --------------  ----- \n",
      " 0   ID           54214 non-null  int64 \n",
      " 1   TITLE        54214 non-null  object\n",
      " 2   GENRE        54214 non-null  object\n",
      " 3   DESCRIPTION  54214 non-null  object\n",
      "dtypes: int64(1), object(3)\n",
      "memory usage: 1.7+ MB\n",
      "None\n"
     ]
    }
   ],
   "source": [
    "print(train_data.info())"
   ]
  },
  {
   "cell_type": "code",
   "execution_count": 5,
   "id": "72a6de8a",
   "metadata": {
    "execution": {
     "iopub.execute_input": "2023-10-07T04:29:03.829014Z",
     "iopub.status.busy": "2023-10-07T04:29:03.828626Z",
     "iopub.status.idle": "2023-10-07T04:29:03.850065Z",
     "shell.execute_reply": "2023-10-07T04:29:03.848471Z"
    },
    "papermill": {
     "duration": 0.030293,
     "end_time": "2023-10-07T04:29:03.852568",
     "exception": false,
     "start_time": "2023-10-07T04:29:03.822275",
     "status": "completed"
    },
    "tags": [],
    "ExecuteTime": {
     "end_time": "2024-01-24T18:15:05.282870Z",
     "start_time": "2024-01-24T18:15:05.228809Z"
    }
   },
   "outputs": [
    {
     "name": "stdout",
     "output_type": "stream",
     "text": [
      "ID             0\n",
      "TITLE          0\n",
      "GENRE          0\n",
      "DESCRIPTION    0\n",
      "dtype: int64\n"
     ]
    }
   ],
   "source": [
    "print(train_data.isnull().sum())"
   ]
  },
  {
   "cell_type": "code",
   "execution_count": 6,
   "id": "51e3b7fb",
   "metadata": {
    "execution": {
     "iopub.execute_input": "2023-10-07T04:29:03.864785Z",
     "iopub.status.busy": "2023-10-07T04:29:03.864256Z",
     "iopub.status.idle": "2023-10-07T04:29:05.073784Z",
     "shell.execute_reply": "2023-10-07T04:29:05.072803Z"
    },
    "papermill": {
     "duration": 1.218746,
     "end_time": "2023-10-07T04:29:05.076282",
     "exception": false,
     "start_time": "2023-10-07T04:29:03.857536",
     "status": "completed"
    },
    "tags": [],
    "ExecuteTime": {
     "end_time": "2024-01-24T18:15:05.768224Z",
     "start_time": "2024-01-24T18:15:05.234276Z"
    }
   },
   "outputs": [
    {
     "data": {
      "text/plain": "   ID                        TITLE  \\\n0   1         Edgar's Lunch (1998)   \n1   2     La guerra de papá (1977)   \n2   3  Off the Beaten Track (2010)   \n3   4       Meu Amigo Hindu (2015)   \n4   5            Er nu zhai (1955)   \n\n                                         DESCRIPTION  \n0  L.R. Brane loves his life - his car, his apart...  \n1  Spain, March 1964: Quico is a very naughty chi...  \n2  One year in the life of Albin and his family o...  \n3  His father has died, he hasn't spoken with his...  \n4  Before he was known internationally as a marti...  ",
      "text/html": "<div>\n<style scoped>\n    .dataframe tbody tr th:only-of-type {\n        vertical-align: middle;\n    }\n\n    .dataframe tbody tr th {\n        vertical-align: top;\n    }\n\n    .dataframe thead th {\n        text-align: right;\n    }\n</style>\n<table border=\"1\" class=\"dataframe\">\n  <thead>\n    <tr style=\"text-align: right;\">\n      <th></th>\n      <th>ID</th>\n      <th>TITLE</th>\n      <th>DESCRIPTION</th>\n    </tr>\n  </thead>\n  <tbody>\n    <tr>\n      <th>0</th>\n      <td>1</td>\n      <td>Edgar's Lunch (1998)</td>\n      <td>L.R. Brane loves his life - his car, his apart...</td>\n    </tr>\n    <tr>\n      <th>1</th>\n      <td>2</td>\n      <td>La guerra de papá (1977)</td>\n      <td>Spain, March 1964: Quico is a very naughty chi...</td>\n    </tr>\n    <tr>\n      <th>2</th>\n      <td>3</td>\n      <td>Off the Beaten Track (2010)</td>\n      <td>One year in the life of Albin and his family o...</td>\n    </tr>\n    <tr>\n      <th>3</th>\n      <td>4</td>\n      <td>Meu Amigo Hindu (2015)</td>\n      <td>His father has died, he hasn't spoken with his...</td>\n    </tr>\n    <tr>\n      <th>4</th>\n      <td>5</td>\n      <td>Er nu zhai (1955)</td>\n      <td>Before he was known internationally as a marti...</td>\n    </tr>\n  </tbody>\n</table>\n</div>"
     },
     "execution_count": 6,
     "metadata": {},
     "output_type": "execute_result"
    }
   ],
   "source": [
    "# Load the test data\n",
    "test_data = pd.read_csv(\"../data/test.csv\")\n",
    "test_data.head()"
   ]
  },
  {
   "cell_type": "markdown",
   "id": "46d01376",
   "metadata": {
    "papermill": {
     "duration": 0.005573,
     "end_time": "2023-10-07T04:29:05.087612",
     "exception": false,
     "start_time": "2023-10-07T04:29:05.082039",
     "status": "completed"
    },
    "tags": []
   },
   "source": [
    "# EDA & Visualization #"
   ]
  },
  {
   "cell_type": "code",
   "execution_count": 7,
   "id": "ccfd9f4c",
   "metadata": {
    "execution": {
     "iopub.execute_input": "2023-10-07T04:29:05.105489Z",
     "iopub.status.busy": "2023-10-07T04:29:05.105069Z",
     "iopub.status.idle": "2023-10-07T04:29:06.169833Z",
     "shell.execute_reply": "2023-10-07T04:29:06.168646Z"
    },
    "papermill": {
     "duration": 1.075457,
     "end_time": "2023-10-07T04:29:06.172343",
     "exception": false,
     "start_time": "2023-10-07T04:29:05.096886",
     "status": "completed"
    },
    "tags": [],
    "ExecuteTime": {
     "end_time": "2024-01-24T18:15:07.152808Z",
     "start_time": "2024-01-24T18:15:05.772646Z"
    }
   },
   "outputs": [
    {
     "name": "stderr",
     "output_type": "stream",
     "text": [
      "/var/folders/r7/jwzdkh1512v2b1_q9q4ky_6c0000gn/T/ipykernel_10282/3791479286.py:3: FutureWarning: \n",
      "\n",
      "Passing `palette` without assigning `hue` is deprecated and will be removed in v0.14.0. Assign the `y` variable to `hue` and set `legend=False` for the same effect.\n",
      "\n",
      "  sns.countplot(data=train_data, y='GENRE', order=train_data['GENRE'].value_counts().index, palette='viridis')\n",
      "/Users/kausik/.local/share/virtualenvs/CodSoft-Dx2vzRgQ/lib/python3.10/site-packages/seaborn/_base.py:949: FutureWarning: When grouping with a length-1 list-like, you will need to pass a length-1 tuple to get_group in a future version of pandas. Pass `(name,)` instead of `name` to silence this warning.\n",
      "  data_subset = grouped_data.get_group(pd_key)\n",
      "/Users/kausik/.local/share/virtualenvs/CodSoft-Dx2vzRgQ/lib/python3.10/site-packages/seaborn/_base.py:949: FutureWarning: When grouping with a length-1 list-like, you will need to pass a length-1 tuple to get_group in a future version of pandas. Pass `(name,)` instead of `name` to silence this warning.\n",
      "  data_subset = grouped_data.get_group(pd_key)\n",
      "/Users/kausik/.local/share/virtualenvs/CodSoft-Dx2vzRgQ/lib/python3.10/site-packages/seaborn/_base.py:949: FutureWarning: When grouping with a length-1 list-like, you will need to pass a length-1 tuple to get_group in a future version of pandas. Pass `(name,)` instead of `name` to silence this warning.\n",
      "  data_subset = grouped_data.get_group(pd_key)\n",
      "/Users/kausik/.local/share/virtualenvs/CodSoft-Dx2vzRgQ/lib/python3.10/site-packages/seaborn/_base.py:949: FutureWarning: When grouping with a length-1 list-like, you will need to pass a length-1 tuple to get_group in a future version of pandas. Pass `(name,)` instead of `name` to silence this warning.\n",
      "  data_subset = grouped_data.get_group(pd_key)\n",
      "/Users/kausik/.local/share/virtualenvs/CodSoft-Dx2vzRgQ/lib/python3.10/site-packages/seaborn/_base.py:949: FutureWarning: When grouping with a length-1 list-like, you will need to pass a length-1 tuple to get_group in a future version of pandas. Pass `(name,)` instead of `name` to silence this warning.\n",
      "  data_subset = grouped_data.get_group(pd_key)\n",
      "/Users/kausik/.local/share/virtualenvs/CodSoft-Dx2vzRgQ/lib/python3.10/site-packages/seaborn/_base.py:949: FutureWarning: When grouping with a length-1 list-like, you will need to pass a length-1 tuple to get_group in a future version of pandas. Pass `(name,)` instead of `name` to silence this warning.\n",
      "  data_subset = grouped_data.get_group(pd_key)\n",
      "/Users/kausik/.local/share/virtualenvs/CodSoft-Dx2vzRgQ/lib/python3.10/site-packages/seaborn/_base.py:949: FutureWarning: When grouping with a length-1 list-like, you will need to pass a length-1 tuple to get_group in a future version of pandas. Pass `(name,)` instead of `name` to silence this warning.\n",
      "  data_subset = grouped_data.get_group(pd_key)\n",
      "/Users/kausik/.local/share/virtualenvs/CodSoft-Dx2vzRgQ/lib/python3.10/site-packages/seaborn/_base.py:949: FutureWarning: When grouping with a length-1 list-like, you will need to pass a length-1 tuple to get_group in a future version of pandas. Pass `(name,)` instead of `name` to silence this warning.\n",
      "  data_subset = grouped_data.get_group(pd_key)\n",
      "/Users/kausik/.local/share/virtualenvs/CodSoft-Dx2vzRgQ/lib/python3.10/site-packages/seaborn/_base.py:949: FutureWarning: When grouping with a length-1 list-like, you will need to pass a length-1 tuple to get_group in a future version of pandas. Pass `(name,)` instead of `name` to silence this warning.\n",
      "  data_subset = grouped_data.get_group(pd_key)\n",
      "/Users/kausik/.local/share/virtualenvs/CodSoft-Dx2vzRgQ/lib/python3.10/site-packages/seaborn/_base.py:949: FutureWarning: When grouping with a length-1 list-like, you will need to pass a length-1 tuple to get_group in a future version of pandas. Pass `(name,)` instead of `name` to silence this warning.\n",
      "  data_subset = grouped_data.get_group(pd_key)\n",
      "/Users/kausik/.local/share/virtualenvs/CodSoft-Dx2vzRgQ/lib/python3.10/site-packages/seaborn/_base.py:949: FutureWarning: When grouping with a length-1 list-like, you will need to pass a length-1 tuple to get_group in a future version of pandas. Pass `(name,)` instead of `name` to silence this warning.\n",
      "  data_subset = grouped_data.get_group(pd_key)\n",
      "/Users/kausik/.local/share/virtualenvs/CodSoft-Dx2vzRgQ/lib/python3.10/site-packages/seaborn/_base.py:949: FutureWarning: When grouping with a length-1 list-like, you will need to pass a length-1 tuple to get_group in a future version of pandas. Pass `(name,)` instead of `name` to silence this warning.\n",
      "  data_subset = grouped_data.get_group(pd_key)\n",
      "/Users/kausik/.local/share/virtualenvs/CodSoft-Dx2vzRgQ/lib/python3.10/site-packages/seaborn/_base.py:949: FutureWarning: When grouping with a length-1 list-like, you will need to pass a length-1 tuple to get_group in a future version of pandas. Pass `(name,)` instead of `name` to silence this warning.\n",
      "  data_subset = grouped_data.get_group(pd_key)\n",
      "/Users/kausik/.local/share/virtualenvs/CodSoft-Dx2vzRgQ/lib/python3.10/site-packages/seaborn/_base.py:949: FutureWarning: When grouping with a length-1 list-like, you will need to pass a length-1 tuple to get_group in a future version of pandas. Pass `(name,)` instead of `name` to silence this warning.\n",
      "  data_subset = grouped_data.get_group(pd_key)\n",
      "/Users/kausik/.local/share/virtualenvs/CodSoft-Dx2vzRgQ/lib/python3.10/site-packages/seaborn/_base.py:949: FutureWarning: When grouping with a length-1 list-like, you will need to pass a length-1 tuple to get_group in a future version of pandas. Pass `(name,)` instead of `name` to silence this warning.\n",
      "  data_subset = grouped_data.get_group(pd_key)\n",
      "/Users/kausik/.local/share/virtualenvs/CodSoft-Dx2vzRgQ/lib/python3.10/site-packages/seaborn/_base.py:949: FutureWarning: When grouping with a length-1 list-like, you will need to pass a length-1 tuple to get_group in a future version of pandas. Pass `(name,)` instead of `name` to silence this warning.\n",
      "  data_subset = grouped_data.get_group(pd_key)\n",
      "/Users/kausik/.local/share/virtualenvs/CodSoft-Dx2vzRgQ/lib/python3.10/site-packages/seaborn/_base.py:949: FutureWarning: When grouping with a length-1 list-like, you will need to pass a length-1 tuple to get_group in a future version of pandas. Pass `(name,)` instead of `name` to silence this warning.\n",
      "  data_subset = grouped_data.get_group(pd_key)\n",
      "/Users/kausik/.local/share/virtualenvs/CodSoft-Dx2vzRgQ/lib/python3.10/site-packages/seaborn/_base.py:949: FutureWarning: When grouping with a length-1 list-like, you will need to pass a length-1 tuple to get_group in a future version of pandas. Pass `(name,)` instead of `name` to silence this warning.\n",
      "  data_subset = grouped_data.get_group(pd_key)\n",
      "/Users/kausik/.local/share/virtualenvs/CodSoft-Dx2vzRgQ/lib/python3.10/site-packages/seaborn/_base.py:949: FutureWarning: When grouping with a length-1 list-like, you will need to pass a length-1 tuple to get_group in a future version of pandas. Pass `(name,)` instead of `name` to silence this warning.\n",
      "  data_subset = grouped_data.get_group(pd_key)\n",
      "/Users/kausik/.local/share/virtualenvs/CodSoft-Dx2vzRgQ/lib/python3.10/site-packages/seaborn/_base.py:949: FutureWarning: When grouping with a length-1 list-like, you will need to pass a length-1 tuple to get_group in a future version of pandas. Pass `(name,)` instead of `name` to silence this warning.\n",
      "  data_subset = grouped_data.get_group(pd_key)\n",
      "/Users/kausik/.local/share/virtualenvs/CodSoft-Dx2vzRgQ/lib/python3.10/site-packages/seaborn/_base.py:949: FutureWarning: When grouping with a length-1 list-like, you will need to pass a length-1 tuple to get_group in a future version of pandas. Pass `(name,)` instead of `name` to silence this warning.\n",
      "  data_subset = grouped_data.get_group(pd_key)\n",
      "/Users/kausik/.local/share/virtualenvs/CodSoft-Dx2vzRgQ/lib/python3.10/site-packages/seaborn/_base.py:949: FutureWarning: When grouping with a length-1 list-like, you will need to pass a length-1 tuple to get_group in a future version of pandas. Pass `(name,)` instead of `name` to silence this warning.\n",
      "  data_subset = grouped_data.get_group(pd_key)\n",
      "/Users/kausik/.local/share/virtualenvs/CodSoft-Dx2vzRgQ/lib/python3.10/site-packages/seaborn/_base.py:949: FutureWarning: When grouping with a length-1 list-like, you will need to pass a length-1 tuple to get_group in a future version of pandas. Pass `(name,)` instead of `name` to silence this warning.\n",
      "  data_subset = grouped_data.get_group(pd_key)\n",
      "/Users/kausik/.local/share/virtualenvs/CodSoft-Dx2vzRgQ/lib/python3.10/site-packages/seaborn/_base.py:949: FutureWarning: When grouping with a length-1 list-like, you will need to pass a length-1 tuple to get_group in a future version of pandas. Pass `(name,)` instead of `name` to silence this warning.\n",
      "  data_subset = grouped_data.get_group(pd_key)\n",
      "/Users/kausik/.local/share/virtualenvs/CodSoft-Dx2vzRgQ/lib/python3.10/site-packages/seaborn/_base.py:949: FutureWarning: When grouping with a length-1 list-like, you will need to pass a length-1 tuple to get_group in a future version of pandas. Pass `(name,)` instead of `name` to silence this warning.\n",
      "  data_subset = grouped_data.get_group(pd_key)\n",
      "/Users/kausik/.local/share/virtualenvs/CodSoft-Dx2vzRgQ/lib/python3.10/site-packages/seaborn/_base.py:949: FutureWarning: When grouping with a length-1 list-like, you will need to pass a length-1 tuple to get_group in a future version of pandas. Pass `(name,)` instead of `name` to silence this warning.\n",
      "  data_subset = grouped_data.get_group(pd_key)\n",
      "/Users/kausik/.local/share/virtualenvs/CodSoft-Dx2vzRgQ/lib/python3.10/site-packages/seaborn/_base.py:949: FutureWarning: When grouping with a length-1 list-like, you will need to pass a length-1 tuple to get_group in a future version of pandas. Pass `(name,)` instead of `name` to silence this warning.\n",
      "  data_subset = grouped_data.get_group(pd_key)\n",
      "/var/folders/r7/jwzdkh1512v2b1_q9q4ky_6c0000gn/T/ipykernel_10282/3791479286.py:10: FutureWarning: \n",
      "\n",
      "Passing `palette` without assigning `hue` is deprecated and will be removed in v0.14.0. Assign the `x` variable to `hue` and set `legend=False` for the same effect.\n",
      "\n",
      "  sns.barplot(x=counts.index, y=counts, palette='viridis')\n",
      "/Users/kausik/.local/share/virtualenvs/CodSoft-Dx2vzRgQ/lib/python3.10/site-packages/seaborn/_base.py:949: FutureWarning: When grouping with a length-1 list-like, you will need to pass a length-1 tuple to get_group in a future version of pandas. Pass `(name,)` instead of `name` to silence this warning.\n",
      "  data_subset = grouped_data.get_group(pd_key)\n",
      "/Users/kausik/.local/share/virtualenvs/CodSoft-Dx2vzRgQ/lib/python3.10/site-packages/seaborn/_base.py:949: FutureWarning: When grouping with a length-1 list-like, you will need to pass a length-1 tuple to get_group in a future version of pandas. Pass `(name,)` instead of `name` to silence this warning.\n",
      "  data_subset = grouped_data.get_group(pd_key)\n",
      "/Users/kausik/.local/share/virtualenvs/CodSoft-Dx2vzRgQ/lib/python3.10/site-packages/seaborn/_base.py:949: FutureWarning: When grouping with a length-1 list-like, you will need to pass a length-1 tuple to get_group in a future version of pandas. Pass `(name,)` instead of `name` to silence this warning.\n",
      "  data_subset = grouped_data.get_group(pd_key)\n",
      "/Users/kausik/.local/share/virtualenvs/CodSoft-Dx2vzRgQ/lib/python3.10/site-packages/seaborn/_base.py:949: FutureWarning: When grouping with a length-1 list-like, you will need to pass a length-1 tuple to get_group in a future version of pandas. Pass `(name,)` instead of `name` to silence this warning.\n",
      "  data_subset = grouped_data.get_group(pd_key)\n",
      "/Users/kausik/.local/share/virtualenvs/CodSoft-Dx2vzRgQ/lib/python3.10/site-packages/seaborn/_base.py:949: FutureWarning: When grouping with a length-1 list-like, you will need to pass a length-1 tuple to get_group in a future version of pandas. Pass `(name,)` instead of `name` to silence this warning.\n",
      "  data_subset = grouped_data.get_group(pd_key)\n",
      "/Users/kausik/.local/share/virtualenvs/CodSoft-Dx2vzRgQ/lib/python3.10/site-packages/seaborn/_base.py:949: FutureWarning: When grouping with a length-1 list-like, you will need to pass a length-1 tuple to get_group in a future version of pandas. Pass `(name,)` instead of `name` to silence this warning.\n",
      "  data_subset = grouped_data.get_group(pd_key)\n",
      "/Users/kausik/.local/share/virtualenvs/CodSoft-Dx2vzRgQ/lib/python3.10/site-packages/seaborn/_base.py:949: FutureWarning: When grouping with a length-1 list-like, you will need to pass a length-1 tuple to get_group in a future version of pandas. Pass `(name,)` instead of `name` to silence this warning.\n",
      "  data_subset = grouped_data.get_group(pd_key)\n",
      "/Users/kausik/.local/share/virtualenvs/CodSoft-Dx2vzRgQ/lib/python3.10/site-packages/seaborn/_base.py:949: FutureWarning: When grouping with a length-1 list-like, you will need to pass a length-1 tuple to get_group in a future version of pandas. Pass `(name,)` instead of `name` to silence this warning.\n",
      "  data_subset = grouped_data.get_group(pd_key)\n",
      "/Users/kausik/.local/share/virtualenvs/CodSoft-Dx2vzRgQ/lib/python3.10/site-packages/seaborn/_base.py:949: FutureWarning: When grouping with a length-1 list-like, you will need to pass a length-1 tuple to get_group in a future version of pandas. Pass `(name,)` instead of `name` to silence this warning.\n",
      "  data_subset = grouped_data.get_group(pd_key)\n",
      "/Users/kausik/.local/share/virtualenvs/CodSoft-Dx2vzRgQ/lib/python3.10/site-packages/seaborn/_base.py:949: FutureWarning: When grouping with a length-1 list-like, you will need to pass a length-1 tuple to get_group in a future version of pandas. Pass `(name,)` instead of `name` to silence this warning.\n",
      "  data_subset = grouped_data.get_group(pd_key)\n",
      "/Users/kausik/.local/share/virtualenvs/CodSoft-Dx2vzRgQ/lib/python3.10/site-packages/seaborn/_base.py:949: FutureWarning: When grouping with a length-1 list-like, you will need to pass a length-1 tuple to get_group in a future version of pandas. Pass `(name,)` instead of `name` to silence this warning.\n",
      "  data_subset = grouped_data.get_group(pd_key)\n",
      "/Users/kausik/.local/share/virtualenvs/CodSoft-Dx2vzRgQ/lib/python3.10/site-packages/seaborn/_base.py:949: FutureWarning: When grouping with a length-1 list-like, you will need to pass a length-1 tuple to get_group in a future version of pandas. Pass `(name,)` instead of `name` to silence this warning.\n",
      "  data_subset = grouped_data.get_group(pd_key)\n",
      "/Users/kausik/.local/share/virtualenvs/CodSoft-Dx2vzRgQ/lib/python3.10/site-packages/seaborn/_base.py:949: FutureWarning: When grouping with a length-1 list-like, you will need to pass a length-1 tuple to get_group in a future version of pandas. Pass `(name,)` instead of `name` to silence this warning.\n",
      "  data_subset = grouped_data.get_group(pd_key)\n",
      "/Users/kausik/.local/share/virtualenvs/CodSoft-Dx2vzRgQ/lib/python3.10/site-packages/seaborn/_base.py:949: FutureWarning: When grouping with a length-1 list-like, you will need to pass a length-1 tuple to get_group in a future version of pandas. Pass `(name,)` instead of `name` to silence this warning.\n",
      "  data_subset = grouped_data.get_group(pd_key)\n",
      "/Users/kausik/.local/share/virtualenvs/CodSoft-Dx2vzRgQ/lib/python3.10/site-packages/seaborn/_base.py:949: FutureWarning: When grouping with a length-1 list-like, you will need to pass a length-1 tuple to get_group in a future version of pandas. Pass `(name,)` instead of `name` to silence this warning.\n",
      "  data_subset = grouped_data.get_group(pd_key)\n",
      "/Users/kausik/.local/share/virtualenvs/CodSoft-Dx2vzRgQ/lib/python3.10/site-packages/seaborn/_base.py:949: FutureWarning: When grouping with a length-1 list-like, you will need to pass a length-1 tuple to get_group in a future version of pandas. Pass `(name,)` instead of `name` to silence this warning.\n",
      "  data_subset = grouped_data.get_group(pd_key)\n",
      "/Users/kausik/.local/share/virtualenvs/CodSoft-Dx2vzRgQ/lib/python3.10/site-packages/seaborn/_base.py:949: FutureWarning: When grouping with a length-1 list-like, you will need to pass a length-1 tuple to get_group in a future version of pandas. Pass `(name,)` instead of `name` to silence this warning.\n",
      "  data_subset = grouped_data.get_group(pd_key)\n",
      "/Users/kausik/.local/share/virtualenvs/CodSoft-Dx2vzRgQ/lib/python3.10/site-packages/seaborn/_base.py:949: FutureWarning: When grouping with a length-1 list-like, you will need to pass a length-1 tuple to get_group in a future version of pandas. Pass `(name,)` instead of `name` to silence this warning.\n",
      "  data_subset = grouped_data.get_group(pd_key)\n",
      "/Users/kausik/.local/share/virtualenvs/CodSoft-Dx2vzRgQ/lib/python3.10/site-packages/seaborn/_base.py:949: FutureWarning: When grouping with a length-1 list-like, you will need to pass a length-1 tuple to get_group in a future version of pandas. Pass `(name,)` instead of `name` to silence this warning.\n",
      "  data_subset = grouped_data.get_group(pd_key)\n",
      "/Users/kausik/.local/share/virtualenvs/CodSoft-Dx2vzRgQ/lib/python3.10/site-packages/seaborn/_base.py:949: FutureWarning: When grouping with a length-1 list-like, you will need to pass a length-1 tuple to get_group in a future version of pandas. Pass `(name,)` instead of `name` to silence this warning.\n",
      "  data_subset = grouped_data.get_group(pd_key)\n",
      "/Users/kausik/.local/share/virtualenvs/CodSoft-Dx2vzRgQ/lib/python3.10/site-packages/seaborn/_base.py:949: FutureWarning: When grouping with a length-1 list-like, you will need to pass a length-1 tuple to get_group in a future version of pandas. Pass `(name,)` instead of `name` to silence this warning.\n",
      "  data_subset = grouped_data.get_group(pd_key)\n",
      "/Users/kausik/.local/share/virtualenvs/CodSoft-Dx2vzRgQ/lib/python3.10/site-packages/seaborn/_base.py:949: FutureWarning: When grouping with a length-1 list-like, you will need to pass a length-1 tuple to get_group in a future version of pandas. Pass `(name,)` instead of `name` to silence this warning.\n",
      "  data_subset = grouped_data.get_group(pd_key)\n",
      "/Users/kausik/.local/share/virtualenvs/CodSoft-Dx2vzRgQ/lib/python3.10/site-packages/seaborn/_base.py:949: FutureWarning: When grouping with a length-1 list-like, you will need to pass a length-1 tuple to get_group in a future version of pandas. Pass `(name,)` instead of `name` to silence this warning.\n",
      "  data_subset = grouped_data.get_group(pd_key)\n",
      "/Users/kausik/.local/share/virtualenvs/CodSoft-Dx2vzRgQ/lib/python3.10/site-packages/seaborn/_base.py:949: FutureWarning: When grouping with a length-1 list-like, you will need to pass a length-1 tuple to get_group in a future version of pandas. Pass `(name,)` instead of `name` to silence this warning.\n",
      "  data_subset = grouped_data.get_group(pd_key)\n",
      "/Users/kausik/.local/share/virtualenvs/CodSoft-Dx2vzRgQ/lib/python3.10/site-packages/seaborn/_base.py:949: FutureWarning: When grouping with a length-1 list-like, you will need to pass a length-1 tuple to get_group in a future version of pandas. Pass `(name,)` instead of `name` to silence this warning.\n",
      "  data_subset = grouped_data.get_group(pd_key)\n",
      "/Users/kausik/.local/share/virtualenvs/CodSoft-Dx2vzRgQ/lib/python3.10/site-packages/seaborn/_base.py:949: FutureWarning: When grouping with a length-1 list-like, you will need to pass a length-1 tuple to get_group in a future version of pandas. Pass `(name,)` instead of `name` to silence this warning.\n",
      "  data_subset = grouped_data.get_group(pd_key)\n",
      "/Users/kausik/.local/share/virtualenvs/CodSoft-Dx2vzRgQ/lib/python3.10/site-packages/seaborn/_base.py:949: FutureWarning: When grouping with a length-1 list-like, you will need to pass a length-1 tuple to get_group in a future version of pandas. Pass `(name,)` instead of `name` to silence this warning.\n",
      "  data_subset = grouped_data.get_group(pd_key)\n"
     ]
    },
    {
     "data": {
      "text/plain": "<Figure size 1400x700 with 1 Axes>",
      "image/png": "[encoded data removed]"
     },
     "metadata": {},
     "output_type": "display_data"
    },
    {
     "data": {
      "text/plain": "<Figure size 1400x700 with 1 Axes>",
      "image/png": "[encoded data removed]"
     },
     "metadata": {},
     "output_type": "display_data"
    }
   ],
   "source": [
    "# Plot the distribution of genres in the training data\n",
    "plt.figure(figsize=(14, 7))\n",
    "sns.countplot(data=train_data, y='GENRE', order=train_data['GENRE'].value_counts().index, palette='viridis')\n",
    "plt.xlabel('Count', fontsize=14, fontweight='bold')\n",
    "plt.ylabel('Genre', fontsize=14, fontweight='bold')\n",
    "\n",
    "# Plot the distribution of genres using a bar plot\n",
    "plt.figure(figsize=(14, 7))\n",
    "counts = train_data['GENRE'].value_counts()\n",
    "sns.barplot(x=counts.index, y=counts, palette='viridis')\n",
    "plt.xlabel('Genre', fontsize=14, fontweight='bold')\n",
    "plt.ylabel('Count', fontsize=14, fontweight='bold')\n",
    "plt.title('Distribution of Genres', fontsize=16, fontweight='bold')\n",
    "plt.xticks(rotation=90, fontsize=14, fontweight='bold')\n",
    "plt.show()\n"
   ]
  },
  {
   "cell_type": "markdown",
   "id": "4022d160",
   "metadata": {
    "papermill": {
     "duration": 0.007475,
     "end_time": "2023-10-07T04:29:06.187113",
     "exception": false,
     "start_time": "2023-10-07T04:29:06.179638",
     "status": "completed"
    },
    "tags": []
   },
   "source": [
    "#  Data Preprocessing and Text Cleaning #"
   ]
  },
  {
   "cell_type": "code",
   "execution_count": 8,
   "id": "bc9c482e",
   "metadata": {
    "execution": {
     "iopub.execute_input": "2023-10-07T04:29:06.202339Z",
     "iopub.status.busy": "2023-10-07T04:29:06.201994Z",
     "iopub.status.idle": "2023-10-07T04:30:54.580343Z",
     "shell.execute_reply": "2023-10-07T04:30:54.579158Z"
    },
    "papermill": {
     "duration": 108.388908,
     "end_time": "2023-10-07T04:30:54.582934",
     "exception": false,
     "start_time": "2023-10-07T04:29:06.194026",
     "status": "completed"
    },
    "tags": [],
    "ExecuteTime": {
     "end_time": "2024-01-24T18:16:23.507576Z",
     "start_time": "2024-01-24T18:15:07.158058Z"
    }
   },
   "outputs": [],
   "source": [
    "# Initialize the stemmer and stop words\n",
    "# In the earlier Email Classifier we used PorterStemmer to stem the text\n",
    "stemmer = LancasterStemmer()\n",
    "stop_words = set(stopwords.words('english'))\n",
    "\n",
    "# Define the clean_text function\n",
    "def clean_text(text):\n",
    "    text = text.lower()  # Lowercase all characters\n",
    "    text = re.sub(r'@\\S+', '', text)  # Remove Twitter handles\n",
    "    text = re.sub(r'http\\S+', '', text)  # Remove URLs\n",
    "    text = re.sub(r'pic.\\S+', '', text)\n",
    "    text = re.sub(r\"[^a-zA-Z+']\", ' ', text)  # Keep only characters\n",
    "    text = re.sub(r'\\s+[a-zA-Z]\\s+', ' ', text + ' ')  # Keep words with length > 1 only\n",
    "    text = \"\".join([i for i in text if i not in string.punctuation])\n",
    "    words = nltk.word_tokenize(text)\n",
    "    stopwords = nltk.corpus.stopwords.words('english')  # Remove stopwords\n",
    "    text = \" \".join([i for i in words if i not in stopwords and len(i) > 2])\n",
    "    text = re.sub(\"\\s[\\s]+\", \" \", text).strip()  # Remove repeated/leading/trailing spaces\n",
    "    return text\n",
    "\n",
    "# Apply the clean_text function to the 'Description' column in the training and test data\n",
    "train_data['Text_cleaning'] = train_data['DESCRIPTION'].apply(clean_text)\n",
    "test_data['Text_cleaning'] = test_data['DESCRIPTION'].apply(clean_text)\n"
   ]
  },
  {
   "cell_type": "markdown",
   "id": "1987210a",
   "metadata": {
    "papermill": {
     "duration": 0.006419,
     "end_time": "2023-10-07T04:30:54.596753",
     "exception": false,
     "start_time": "2023-10-07T04:30:54.590334",
     "status": "completed"
    },
    "tags": []
   },
   "source": [
    "# Visualising Data After Preprocessing #"
   ]
  },
  {
   "cell_type": "code",
   "execution_count": 9,
   "id": "5bc6c74f",
   "metadata": {
    "execution": {
     "iopub.execute_input": "2023-10-07T04:30:54.612493Z",
     "iopub.status.busy": "2023-10-07T04:30:54.612062Z",
     "iopub.status.idle": "2023-10-07T04:30:55.315945Z",
     "shell.execute_reply": "2023-10-07T04:30:55.314461Z"
    },
    "papermill": {
     "duration": 0.714495,
     "end_time": "2023-10-07T04:30:55.318490",
     "exception": false,
     "start_time": "2023-10-07T04:30:54.603995",
     "status": "completed"
    },
    "tags": [],
    "ExecuteTime": {
     "end_time": "2024-01-24T18:16:23.953508Z",
     "start_time": "2024-01-24T18:16:23.532446Z"
    }
   },
   "outputs": [
    {
     "data": {
      "text/plain": "<Figure size 800x700 with 1 Axes>",
      "image/png": "[encoded data removed]"
     },
     "metadata": {},
     "output_type": "display_data"
    }
   ],
   "source": [
    "# Calculate the length of cleaned text\n",
    "train_data['length_Text_cleaning'] = train_data['Text_cleaning'].apply(len)\n",
    "# Visualize the distribution of text lengths\n",
    "plt.figure(figsize=(8, 7))\n",
    "sns.histplot(data=train_data, x='length_Text_cleaning', bins=20, kde=True, color='blue')\n",
    "plt.xlabel('Length', fontsize=14, fontweight='bold')\n",
    "plt.ylabel('Frequency', fontsize=14, fontweight='bold')\n",
    "plt.title('Distribution of Lengths', fontsize=16, fontweight='bold')\n",
    "plt.show()\n"
   ]
  },
  {
   "cell_type": "markdown",
   "id": "ae9d1299",
   "metadata": {
    "papermill": {
     "duration": 0.008388,
     "end_time": "2023-10-07T04:30:55.335756",
     "exception": false,
     "start_time": "2023-10-07T04:30:55.327368",
     "status": "completed"
    },
    "tags": []
   },
   "source": [
    "#  Text Vectorization Using TF-IDF #"
   ]
  },
  {
   "cell_type": "code",
   "execution_count": 14,
   "id": "6efdf172",
   "metadata": {
    "execution": {
     "iopub.execute_input": "2023-10-07T04:30:55.352925Z",
     "iopub.status.busy": "2023-10-07T04:30:55.352551Z",
     "iopub.status.idle": "2023-10-07T04:31:02.271157Z",
     "shell.execute_reply": "2023-10-07T04:31:02.269892Z"
    },
    "papermill": {
     "duration": 6.930062,
     "end_time": "2023-10-07T04:31:02.273736",
     "exception": false,
     "start_time": "2023-10-07T04:30:55.343674",
     "status": "completed"
    },
    "tags": [],
    "ExecuteTime": {
     "end_time": "2024-01-24T18:17:33.755615Z",
     "start_time": "2024-01-24T18:17:27.813417Z"
    }
   },
   "outputs": [],
   "source": [
    "# Initialize the TF-IDF vectorizer\n",
    "tfidf_vectorizer = TfidfVectorizer(max_features=5000)\n",
    "\n",
    "# Fit and transform the training data\n",
    "X_train = tfidf_vectorizer.fit_transform(train_data['Text_cleaning'])\n",
    "\n",
    "# Transform the test data\n",
    "X_test = tfidf_vectorizer.transform(test_data['Text_cleaning'])\n"
   ]
  },
  {
   "cell_type": "markdown",
   "id": "cb58aa80",
   "metadata": {
    "papermill": {
     "duration": 0.007161,
     "end_time": "2023-10-07T04:31:02.288514",
     "exception": false,
     "start_time": "2023-10-07T04:31:02.281353",
     "status": "completed"
    },
    "tags": []
   },
   "source": [
    "#  Split Data and Train a Model (Naive Bayes) #"
   ]
  },
  {
   "cell_type": "code",
   "execution_count": 15,
   "id": "510bf7ff",
   "metadata": {
    "execution": {
     "iopub.execute_input": "2023-10-07T04:31:02.306894Z",
     "iopub.status.busy": "2023-10-07T04:31:02.306426Z",
     "iopub.status.idle": "2023-10-07T04:31:03.151526Z",
     "shell.execute_reply": "2023-10-07T04:31:03.149294Z"
    },
    "papermill": {
     "duration": 0.856758,
     "end_time": "2023-10-07T04:31:03.153820",
     "exception": false,
     "start_time": "2023-10-07T04:31:02.297062",
     "status": "completed"
    },
    "tags": [],
    "ExecuteTime": {
     "end_time": "2024-01-24T18:17:34.134646Z",
     "start_time": "2024-01-24T18:17:33.758489Z"
    }
   },
   "outputs": [
    {
     "name": "stdout",
     "output_type": "stream",
     "text": [
      "Validation Accuracy: 0.5225491100249009\n",
      "              precision    recall  f1-score   support\n",
      "\n",
      "      action       0.56      0.08      0.15       263\n",
      "       adult       1.00      0.06      0.12       112\n",
      "   adventure       0.40      0.04      0.08       139\n",
      "   animation       0.00      0.00      0.00       104\n",
      "   biography       0.00      0.00      0.00        61\n",
      "      comedy       0.51      0.43      0.47      1443\n",
      "       crime       0.00      0.00      0.00       107\n",
      " documentary       0.58      0.88      0.70      2659\n",
      "       drama       0.46      0.83      0.59      2697\n",
      "      family       1.00      0.01      0.01       150\n",
      "     fantasy       0.00      0.00      0.00        74\n",
      "   game-show       1.00      0.15      0.26        40\n",
      "     history       0.00      0.00      0.00        45\n",
      "      horror       0.74      0.37      0.49       431\n",
      "       music       0.80      0.11      0.20       144\n",
      "     musical       0.00      0.00      0.00        50\n",
      "     mystery       0.00      0.00      0.00        56\n",
      "        news       0.00      0.00      0.00        34\n",
      "  reality-tv       0.50      0.02      0.03       192\n",
      "     romance       0.00      0.00      0.00       151\n",
      "      sci-fi       0.75      0.02      0.04       143\n",
      "       short       0.59      0.10      0.17      1045\n",
      "       sport       0.86      0.06      0.12        93\n",
      "   talk-show       0.00      0.00      0.00        81\n",
      "    thriller       0.40      0.02      0.04       309\n",
      "         war       0.00      0.00      0.00        20\n",
      "     western       0.97      0.59      0.73       200\n",
      "\n",
      "    accuracy                           0.52     10843\n",
      "   macro avg       0.41      0.14      0.16     10843\n",
      "weighted avg       0.52      0.52      0.44     10843\n"
     ]
    },
    {
     "name": "stderr",
     "output_type": "stream",
     "text": [
      "/Users/kausik/.local/share/virtualenvs/CodSoft-Dx2vzRgQ/lib/python3.10/site-packages/sklearn/metrics/_classification.py:1471: UndefinedMetricWarning: Precision and F-score are ill-defined and being set to 0.0 in labels with no predicted samples. Use `zero_division` parameter to control this behavior.\n",
      "  _warn_prf(average, modifier, msg_start, len(result))\n",
      "/Users/kausik/.local/share/virtualenvs/CodSoft-Dx2vzRgQ/lib/python3.10/site-packages/sklearn/metrics/_classification.py:1471: UndefinedMetricWarning: Precision and F-score are ill-defined and being set to 0.0 in labels with no predicted samples. Use `zero_division` parameter to control this behavior.\n",
      "  _warn_prf(average, modifier, msg_start, len(result))\n",
      "/Users/kausik/.local/share/virtualenvs/CodSoft-Dx2vzRgQ/lib/python3.10/site-packages/sklearn/metrics/_classification.py:1471: UndefinedMetricWarning: Precision and F-score are ill-defined and being set to 0.0 in labels with no predicted samples. Use `zero_division` parameter to control this behavior.\n",
      "  _warn_prf(average, modifier, msg_start, len(result))\n"
     ]
    }
   ],
   "source": [
    "# Split the data into training and validation sets\n",
    "X = X_train\n",
    "y = train_data['GENRE']\n",
    "X_train, X_val, y_train, y_val = train_test_split(X, y, test_size=0.2, random_state=42)\n",
    "\n",
    "# Initialize and train a Multinomial Naive Bayes classifier\n",
    "classifier = MultinomialNB()\n",
    "classifier.fit(X_train, y_train)\n",
    "\n",
    "# Make predictions on the validation set\n",
    "y_pred = classifier.predict(X_val)\n",
    "\n",
    "# Evaluate the performance of the model\n",
    "accuracy = accuracy_score(y_val, y_pred)\n",
    "print(\"Validation Accuracy:\", accuracy)\n",
    "print(classification_report(y_val, y_pred))\n"
   ]
  },
  {
   "cell_type": "markdown",
   "id": "073aca96",
   "metadata": {
    "papermill": {
     "duration": 0.007854,
     "end_time": "2023-10-07T04:31:03.169269",
     "exception": false,
     "start_time": "2023-10-07T04:31:03.161415",
     "status": "completed"
    },
    "tags": []
   },
   "source": [
    " # Make Predictions on the Test Data #"
   ]
  },
  {
   "cell_type": "code",
   "execution_count": 16,
   "id": "be01449e",
   "metadata": {
    "execution": {
     "iopub.execute_input": "2023-10-07T04:31:03.186202Z",
     "iopub.status.busy": "2023-10-07T04:31:03.185826Z",
     "iopub.status.idle": "2023-10-07T04:31:03.302804Z",
     "shell.execute_reply": "2023-10-07T04:31:03.301445Z"
    },
    "papermill": {
     "duration": 0.128412,
     "end_time": "2023-10-07T04:31:03.305373",
     "exception": false,
     "start_time": "2023-10-07T04:31:03.176961",
     "status": "completed"
    },
    "tags": [],
    "ExecuteTime": {
     "end_time": "2024-01-24T18:17:45.459218Z",
     "start_time": "2024-01-24T18:17:45.384767Z"
    }
   },
   "outputs": [],
   "source": [
    "# Use the trained model to make predictions on the test data\n",
    "X_test_predictions = classifier.predict(X_test)\n",
    "test_data['Predicted_Genre'] = X_test_predictions"
   ]
  },
  {
   "cell_type": "code",
   "execution_count": 17,
   "id": "a1fd3444",
   "metadata": {
    "execution": {
     "iopub.execute_input": "2023-10-07T04:31:03.322779Z",
     "iopub.status.busy": "2023-10-07T04:31:03.322251Z",
     "iopub.status.idle": "2023-10-07T04:31:05.162877Z",
     "shell.execute_reply": "2023-10-07T04:31:05.160480Z"
    },
    "papermill": {
     "duration": 1.852241,
     "end_time": "2023-10-07T04:31:05.165378",
     "exception": false,
     "start_time": "2023-10-07T04:31:03.313137",
     "status": "completed"
    },
    "tags": [],
    "ExecuteTime": {
     "end_time": "2024-01-24T18:17:49.979093Z",
     "start_time": "2024-01-24T18:17:47.797854Z"
    }
   },
   "outputs": [
    {
     "name": "stdout",
     "output_type": "stream",
     "text": [
      "          ID                           TITLE  \\\n",
      "0          1            Edgar's Lunch (1998)   \n",
      "1          2        La guerra de papá (1977)   \n",
      "2          3     Off the Beaten Track (2010)   \n",
      "3          4          Meu Amigo Hindu (2015)   \n",
      "4          5               Er nu zhai (1955)   \n",
      "...      ...                             ...   \n",
      "54195  54196  \"Tales of Light & Dark\" (2013)   \n",
      "54196  54197     Der letzte Mohikaner (1965)   \n",
      "54197  54198             Oliver Twink (2007)   \n",
      "54198  54199               Slipstream (1973)   \n",
      "54199  54200       Curitiba Zero Grau (2010)   \n",
      "\n",
      "                                             DESCRIPTION  \\\n",
      "0      L.R. Brane loves his life - his car, his apart...   \n",
      "1      Spain, March 1964: Quico is a very naughty chi...   \n",
      "2      One year in the life of Albin and his family o...   \n",
      "3      His father has died, he hasn't spoken with his...   \n",
      "4      Before he was known internationally as a marti...   \n",
      "...                                                  ...   \n",
      "54195  Covering multiple genres, Tales of Light & Dar...   \n",
      "54196  As Alice and Cora Munro attempt to find their ...   \n",
      "54197  A movie 169 years in the making. Oliver Twist,...   \n",
      "54198  Popular, but mysterious rock D.J Mike Mallard ...   \n",
      "54199  Curitiba is a city in movement, with rhythms a...   \n",
      "\n",
      "                                           Text_cleaning Predicted_Genre  \n",
      "0      brane loves life car apartment job especially ...           drama  \n",
      "1      spain march quico naughty child three belongin...           drama  \n",
      "2      one year life albin family shepherds north tra...     documentary  \n",
      "3      father died hasnt spoken brother years serious...           drama  \n",
      "4      known internationally martial arts superstar b...           drama  \n",
      "...                                                  ...             ...  \n",
      "54195  covering multiple genres tales light dark anth...           drama  \n",
      "54196  alice cora munro attempt find father british o...           drama  \n",
      "54197  movie years making oliver twist artful dodger ...          comedy  \n",
      "54198  popular mysterious rock mike mallard askew bro...     documentary  \n",
      "54199  curitiba city movement rhythms different pulsa...     documentary  \n",
      "\n",
      "[54200 rows x 5 columns]\n"
     ]
    }
   ],
   "source": [
    "# Save the test_data DataFrame with predicted genres to a CSV file\n",
    "test_data.to_csv('predicted_genres.csv', index=False)\n",
    "\n",
    "# Display the 'test_data' DataFrame with predicted genres\n",
    "print(test_data)\n"
   ]
  },
  {
   "cell_type": "code",
   "outputs": [
    {
     "data": {
      "text/plain": "['vectorizer.pkl']"
     },
     "execution_count": 18,
     "metadata": {},
     "output_type": "execute_result"
    }
   ],
   "source": [
    "import joblib\n",
    "joblib.dump(classifier, 'final_model.pkl')\n",
    "joblib.dump(tfidf_vectorizer, 'vectorizer.pkl')"
   ],
   "metadata": {
    "collapsed": false,
    "ExecuteTime": {
     "end_time": "2024-01-24T18:18:10.261550Z",
     "start_time": "2024-01-24T18:18:09.511326Z"
    }
   },
   "id": "4dca04f14171ff67",
   "execution_count": 18
  },
  {
   "cell_type": "markdown",
   "source": [
    "# Using GridSearchCV to find the best parameters"
   ],
   "metadata": {
    "collapsed": false
   },
   "id": "2dff3980971b590"
  },
  {
   "cell_type": "code",
   "outputs": [],
   "source": [
    "# Deleting the previous variables\n",
    "del X_test\n",
    "del X_train\n",
    "del y_train\n",
    "del y_val\n",
    "del y \n",
    "del classifier\n",
    "del tfidf_vectorizer"
   ],
   "metadata": {
    "collapsed": false,
    "ExecuteTime": {
     "end_time": "2024-01-24T14:30:53.781516Z",
     "start_time": "2024-01-24T14:30:53.757124Z"
    }
   },
   "id": "4e5adae745ea5d19",
   "execution_count": 14
  },
  {
   "cell_type": "code",
   "outputs": [],
   "source": [
    "X = train_data[\"Text_cleaning\"]\n",
    "y = train_data['GENRE']"
   ],
   "metadata": {
    "collapsed": false,
    "ExecuteTime": {
     "end_time": "2024-01-24T14:30:53.783168Z",
     "start_time": "2024-01-24T14:30:53.767766Z"
    }
   },
   "id": "f732f8898c6113df",
   "execution_count": 15
  },
  {
   "cell_type": "code",
   "outputs": [],
   "source": [
    "X_train, X_val, y_train, y_val = train_test_split(X, y, test_size=0.2, random_state=42)"
   ],
   "metadata": {
    "collapsed": false,
    "ExecuteTime": {
     "end_time": "2024-01-24T14:30:53.800913Z",
     "start_time": "2024-01-24T14:30:53.775430Z"
    }
   },
   "id": "802a87074389c3ca",
   "execution_count": 16
  },
  {
   "cell_type": "markdown",
   "source": [
    "# GLOBAL OPTIMISATION\n",
    "\n",
    "Let's find the best parameters for the model so as to minimise the error and also prevent overfitting.\n",
    "\n",
    "Here's how we prevent Overfitting:\n",
    "\n",
    "GridSearchCV performs cross-validation internally, which helps to prevent overfitting. Cross-validation is a technique where the **training set is split into multiple smaller sets**, or **\"folds\"**. The model is then trained on all but one of these folds and validated on the remaining fold. This process is repeated for each fold, so every data point gets to be in the validation set exactly once. This helps to ensure that the model generalizes well to unseen data."
   ],
   "metadata": {
    "collapsed": false
   },
   "id": "5d954e6eb89db3c3"
  },
  {
   "cell_type": "code",
   "outputs": [
    {
     "name": "stderr",
     "output_type": "stream",
     "text": [
      "Intel(R) Extension for Scikit-learn* enabled (https://github.com/intel/scikit-learn-intelex)\n"
     ]
    }
   ],
   "source": [
    "from sklearn.model_selection import GridSearchCV\n",
    "from sklearnex import patch_sklearn\n",
    "\n",
    "patch_sklearn() \n",
    "# I'm using an Intel based computer, so we are patching sklearn to work according with the underlying Intel Infrastructure\n",
    "\n",
    "# Define the parameter grid\n",
    "param_grid = {\n",
    "    'clf__alpha': [0.1, 0.5, 1.0, 1.5, 2.0],\n",
    "    'clf__fit_prior': [True, False],\n",
    "    'tfidf__max_df': [0.5, 0.75, 1.0],\n",
    "    'tfidf__min_df': [1, 2],\n",
    "    'tfidf__max_features': [None, 5000, 10000, 50000],\n",
    "    'tfidf__ngram_range': [(1, 1), (1, 2), (2, 2)]  \n",
    "    # unigrams or bigrams\n",
    "}\n",
    "\n",
    "# Initialize the Tfidf Vectorizer\n",
    "tfidf_vectorizer = TfidfVectorizer()\n",
    "\n",
    "# Initialize the MultinomialNB\n",
    "classifier = MultinomialNB()\n",
    "\n",
    "# Create a pipeline\n",
    "from sklearn.pipeline import Pipeline\n",
    "pipe = Pipeline([\n",
    "    ('tfidf', tfidf_vectorizer),\n",
    "    ('clf', classifier)\n",
    "])\n",
    "\n",
    "# Initialize the GridSearchCV\n",
    "grid_search = GridSearchCV(pipe, param_grid, scoring='accuracy', cv=5)\n",
    "\n",
    "# Fit the GridSearchCV to the training data\n",
    "grid_search.fit(X_train, y_train)\n",
    "\n",
    "# Print the best parameters\n",
    "print(\"Best parameters: \", grid_search.best_params_)\n",
    "\n",
    "# Use the best estimator to make predictions\n",
    "best_classifier = grid_search.best_estimator_\n",
    "\n",
    "# Make predictions on the validation set\n",
    "y_pred = best_classifier.predict(X_val)\n",
    "\n",
    "# Convert the cv_results_ to a DataFrame\n",
    "cv_results_df = pd.DataFrame(grid_search.cv_results_)\n",
    "\n",
    "# Evaluate the performance of the model\n",
    "accuracy = accuracy_score(y_val, y_pred)\n",
    "print(\"Validation Accuracy:\", accuracy)\n",
    "print(classification_report(y_val, y_pred))"
   ],
   "metadata": {
    "collapsed": false,
    "is_executing": true,
    "ExecuteTime": {
     "start_time": "2024-01-24T14:36:46.566733Z"
    }
   },
   "id": "807b6f0528d3d510",
   "execution_count": null
  },
  {
   "cell_type": "code",
   "outputs": [],
   "source": [
    "print(cv_results_df)"
   ],
   "metadata": {
    "collapsed": false,
    "is_executing": true
   },
   "id": "b9bb146c3fd52bd9"
  },
  {
   "cell_type": "code",
   "outputs": [],
   "source": [
    "# Plot the results of the grid search\n",
    "plt.figure(figsize=(14, 7))\n",
    "sns.lineplot(data=cv_results_df, x='param_clf__alpha', y='mean_test_score', hue='param_clf__fit_prior', palette='viridis')\n",
    "plt.xlabel('Alpha', fontsize=14, fontweight='bold')\n",
    "plt.ylabel('Mean Test Score', fontsize=14, fontweight='bold')\n",
    "plt.title('Grid Search Results', fontsize=16, fontweight='bold')\n",
    "plt.show()"
   ],
   "metadata": {
    "collapsed": false,
    "is_executing": true
   },
   "id": "963056312ec8f260"
  },
  {
   "cell_type": "code",
   "outputs": [],
   "source": [
    "cv_results_df.to_csv('cv_results.csv')"
   ],
   "metadata": {
    "collapsed": false,
    "is_executing": true
   },
   "id": "318b9e38bbafc2aa"
  },
  {
   "cell_type": "code",
   "outputs": [],
   "source": [
    "# Save the best model\n",
    "import joblib\n",
    "joblib.dump(best_classifier, 'best_model.pkl')\n"
   ],
   "metadata": {
    "collapsed": false,
    "is_executing": true
   },
   "id": "90c4ac85052600d8"
  },
  {
   "cell_type": "code",
   "outputs": [],
   "source": [
    "# Print the best parameters\n",
    "print(\"Best parameters: \", grid_search.best_params_)"
   ],
   "metadata": {
    "collapsed": false,
    "is_executing": true
   },
   "id": "fec68d93ea3a14c1"
  }
 ],
 "metadata": {
  "kernelspec": {
   "display_name": "Python 3",
   "language": "python",
   "name": "python3"
  },
  "language_info": {
   "codemirror_mode": {
    "name": "ipython",
    "version": 3
   },
   "file_extension": ".py",
   "mimetype": "text/x-python",
   "name": "python",
   "nbconvert_exporter": "python",
   "pygments_lexer": "ipython3",
   "version": "3.10.12"
  },
  "papermill": {
   "default_parameters": {},
   "duration": 129.896127,
   "end_time": "2023-10-07T04:31:05.996063",
   "environment_variables": {},
   "exception": null,
   "input_path": "__notebook__.ipynb",
   "output_path": "__notebook__.ipynb",
   "parameters": {},
   "start_time": "2023-10-07T04:28:56.099936",
   "version": "2.4.0"
  }
 },
 "nbformat": 4,
 "nbformat_minor": 5
}
